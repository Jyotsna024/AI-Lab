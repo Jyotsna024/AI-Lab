{
 "cells": [
  {
   "cell_type": "code",
   "execution_count": 1,
   "id": "3caf9568-2b12-4b47-9ebc-58babde16aaa",
   "metadata": {},
   "outputs": [
    {
     "name": "stdout",
     "output_type": "stream",
     "text": [
      "Chatbot: Hi, I'm your Jyo! Type 'bye' to exit.\n"
     ]
    },
    {
     "name": "stdin",
     "output_type": "stream",
     "text": [
      "You:  Namaste\n"
     ]
    },
    {
     "name": "stdout",
     "output_type": "stream",
     "text": [
      "Chatbot: Namaste! How can I assist you today?\n"
     ]
    },
    {
     "name": "stdin",
     "output_type": "stream",
     "text": [
      "You:  How are you?\n"
     ]
    },
    {
     "name": "stdout",
     "output_type": "stream",
     "text": [
      "Chatbot: Sorry, I didn't understand that. Can you rephrase?\n"
     ]
    },
    {
     "name": "stdin",
     "output_type": "stream",
     "text": [
      "You:  Tell me a joke\n"
     ]
    },
    {
     "name": "stdout",
     "output_type": "stream",
     "text": [
      "Chatbot: Why don't scientists trust atoms? Because they make up everything!\n"
     ]
    },
    {
     "name": "stdin",
     "output_type": "stream",
     "text": [
      "You:  My name is devz\n"
     ]
    },
    {
     "name": "stdout",
     "output_type": "stream",
     "text": [
      "Chatbot: Sorry, I didn't understand that. Can you rephrase?\n"
     ]
    },
    {
     "name": "stdin",
     "output_type": "stream",
     "text": [
      "You:  bye\n"
     ]
    },
    {
     "name": "stdout",
     "output_type": "stream",
     "text": [
      "Chatbot: Goodbye!\n"
     ]
    }
   ],
   "source": [
    "import re\n",
    "\n",
    "# Define chatbot responses and intents\n",
    "responses = {\n",
    "    \"greeting\": [\"hi\", \"hello\", \"namaste\", \"hey\", \"yo\"],\n",
    "    \"bye\": [\"bye\", \"goodbye\", \"see you\", \"exit\", \"farewell\"],\n",
    "    \"how_are_you\": [\"how are you\", \"how's it going\", \"how are you doing\", \"what's up\", \"how are you feeling\"],\n",
    "    \"joke\": [\"tell me a joke\", \"joke\", \"make me laugh\"],\n",
    "    \"name\": [\"what is your name\", \"who are you\", \"your name\", \"who is this\"],\n",
    "    \"help\": [\"help\", \"assist\", \"can you help me\"],\n",
    "}\n",
    "\n",
    "# Predefined responses\n",
    "response_map = {\n",
    "    \"greeting\": \"Namaste! How can I assist you today?\",\n",
    "    \"bye\": \"Goodbye! Have a great day!\",\n",
    "    \"how_are_you\": \"I'm just a bot, but I'm doing fine! How about you?\",\n",
    "    \"joke\": \"Why don't scientists trust atoms? Because they make up everything!\",\n",
    "    \"name\": \"I am Jyo, your assistant. What's your name?\",\n",
    "    \"help\": \"I can assist you with things like asking 'how are you', 'tell me a joke', or just chat with you!\",\n",
    "    \"default\": \"Sorry, I didn't understand that. Can you rephrase?\"\n",
    "}\n",
    "\n",
    "# Function to get response from the chatbot\n",
    "def chatbot_response(user_input):\n",
    "    user_input = user_input.lower()  # Convert input to lowercase for easier matching\n",
    "    \n",
    "    # Check each category for a match\n",
    "    for intent, keywords in responses.items():\n",
    "        for keyword in keywords:\n",
    "            if re.search(r\"\\b\" + re.escape(keyword) + r\"\\b\", user_input):\n",
    "                return response_map[intent]\n",
    "    return response_map[\"default\"]  # Default response if no match found\n",
    "\n",
    "# Handle casual responses like \"I'm good\", \"I'm fine\", etc.\n",
    "def casual_response(user_input):\n",
    "    casual_keywords = [\"good\", \"fine\", \"okay\", \"great\", \"doing well\", \"all good\", \"feeling good\"]\n",
    "    for keyword in casual_keywords:\n",
    "        if keyword in user_input.lower():\n",
    "            return \"Glad to hear that! Anything else you'd like to talk about?\"\n",
    "    return chatbot_response(user_input)  # If no casual response, use the default chatbot response\n",
    "\n",
    "# Initialize user conversation\n",
    "print(\"Chatbot: Hi, I'm your Jyo! Type 'bye' to exit.\")\n",
    "name = \"\"  # Variable to store user's name\n",
    "context = None  # Store current user context (like name)\n",
    "\n",
    "while True:\n",
    "    user_input = input(\"You: \").strip()  # Clean up user input by stripping whitespace\n",
    "    \n",
    "    # Check if user wants to exit\n",
    "    if any(bye_word in user_input.lower() for bye_word in responses[\"bye\"]):\n",
    "        print(\"Chatbot: Goodbye!\")\n",
    "        break\n",
    "    \n",
    "    # Context management: ask for the user's name if it's not set\n",
    "    if any(name_query in user_input.lower() for name_query in responses[\"name\"]):\n",
    "        if not name:\n",
    "            name = input(\"Chatbot: I don't know your name yet. What's your name? \")\n",
    "            print(f\"Chatbot: Nice to meet you, {name}!\")\n",
    "        else:\n",
    "            print(f\"Chatbot: Your name is {name}, right?\")\n",
    "        continue\n",
    "    \n",
    "    # Joke command\n",
    "    if any(joke_query in user_input.lower() for joke_query in responses[\"joke\"]):\n",
    "        response = chatbot_response(\"joke\")\n",
    "        print(f\"Chatbot: {response}\")\n",
    "        continue\n",
    "    \n",
    "    # Check how the user is doing\n",
    "    if any(how_query in user_input.lower() for how_query in responses[\"how_are_you\"]):\n",
    "        if name:\n",
    "            response = chatbot_response(\"how_are_you\")\n",
    "            print(f\"Chatbot: {response} And how about you, {name}?\")\n",
    "        else:\n",
    "            response = chatbot_response(\"how_are_you\")\n",
    "            print(f\"Chatbot: {response}\")\n",
    "        continue\n",
    "    \n",
    "    # Handle casual responses like \"I'm good\", \"I'm fine\", etc.\n",
    "    response = casual_response(user_input)\n",
    "    print(f\"Chatbot: {response}\")\n"
   ]
  },
  {
   "cell_type": "code",
   "execution_count": null,
   "id": "f970193b-c4d4-4f70-99f0-6b829bb8c4d7",
   "metadata": {},
   "outputs": [],
   "source": []
  }
 ],
 "metadata": {
  "kernelspec": {
   "display_name": "Python 3 (ipykernel)",
   "language": "python",
   "name": "python3"
  },
  "language_info": {
   "codemirror_mode": {
    "name": "ipython",
    "version": 3
   },
   "file_extension": ".py",
   "mimetype": "text/x-python",
   "name": "python",
   "nbconvert_exporter": "python",
   "pygments_lexer": "ipython3",
   "version": "3.12.7"
  }
 },
 "nbformat": 4,
 "nbformat_minor": 5
}
