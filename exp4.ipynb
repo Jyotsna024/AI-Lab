{
 "cells": [
  {
   "cell_type": "code",
   "execution_count": 7,
   "id": "3eb90f36-b911-411c-b0a5-0c745f5be127",
   "metadata": {},
   "outputs": [
    {
     "name": "stdout",
     "output_type": "stream",
     "text": [
      "Path: ['a', 'c', 'd', 'e', 'z']\n",
      "Cost: 17\n"
     ]
    }
   ],
   "source": [
    "import heapq\n",
    "\n",
    "class Node:\n",
    "    def __init__(self, name, g=0, h=0):\n",
    "        self.name = name\n",
    "        self.g = g  \n",
    "        self.h = h  \n",
    "        self.f = g + h  \n",
    "        self.parent = None  \n",
    "\n",
    "    def __lt__(self, other):\n",
    "        return self.f < other.f\n",
    "\n",
    "def a_star(grid, start, goal, heuristic):\n",
    "    open_list = [] \n",
    "    heapq.heappush(open_list, Node(start, 0, heuristic[start]))\n",
    "    closed_list = set() \n",
    "\n",
    "    while open_list:\n",
    "        current_node = heapq.heappop(open_list)\n",
    "        \n",
    "        if current_node.name == goal:\n",
    "            path = []\n",
    "            total_cost = current_node.g \n",
    "            while current_node:\n",
    "                path.append(current_node.name)\n",
    "                current_node = current_node.parent\n",
    "            return path[::-1], total_cost  \n",
    "        \n",
    "        closed_list.add(current_node.name)\n",
    "        \n",
    "        for neighbor, cost in grid[current_node.name]: \n",
    "            if neighbor in closed_list:\n",
    "                continue\n",
    "            g_cost = current_node.g + cost\n",
    "            h_cost = heuristic[neighbor]\n",
    "            neighbor_node = Node(neighbor, g_cost, h_cost)\n",
    "            neighbor_node.parent = current_node\n",
    "            heapq.heappush(open_list, neighbor_node)\n",
    "    return None, None\n",
    "\n",
    "graph = {\n",
    "    'a': [('b', 4), ('c', 3)],\n",
    "    'b': [('f', 5), ('e', 12)],\n",
    "    'c': [('d', 7), ('e', 10)],\n",
    "    'd': [('e', 2)],\n",
    "    'e': [('b', 12), ('z', 5)],\n",
    "    'f': [('z', 16)],\n",
    "    'z': [('e', 5), ('f', 16)],\n",
    "}\n",
    "\n",
    "heuristic = {\n",
    "    'a': 14, 'b': 12, 'c': 11, 'd': 6, 'e': 4, 'f': 12, 'z': 0\n",
    "}\n",
    "\n",
    "start = 'a'\n",
    "goal = 'z'\n",
    "path, cost = a_star(graph, start, goal, heuristic)\n",
    "\n",
    "if path:\n",
    "    print(\"Path:\", path)\n",
    "    print(\"Cost:\", cost)"
   ]
  },
  {
   "cell_type": "code",
   "execution_count": null,
   "id": "131fefb8-e58e-40da-b5fe-8a67cb107707",
   "metadata": {},
   "outputs": [],
   "source": []
  }
 ],
 "metadata": {
  "kernelspec": {
   "display_name": "Python 3 (ipykernel)",
   "language": "python",
   "name": "python3"
  },
  "language_info": {
   "codemirror_mode": {
    "name": "ipython",
    "version": 3
   },
   "file_extension": ".py",
   "mimetype": "text/x-python",
   "name": "python",
   "nbconvert_exporter": "python",
   "pygments_lexer": "ipython3",
   "version": "3.12.7"
  }
 },
 "nbformat": 4,
 "nbformat_minor": 5
}
