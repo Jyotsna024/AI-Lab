{
 "cells": [
  {
   "cell_type": "code",
   "execution_count": null,
   "id": "214e55ba",
   "metadata": {
    "vscode": {
     "languageId": "plaintext"
    }
   },
   "outputs": [],
   "source": [
    "#Program_1\n",
    "\n",
    "# Facts\n",
    "facts = {\n",
    "    \"parent\": [(\"john\", \"mary\"), (\"john\", \"david\"), (\"susan\", \"mary\"),\n",
    "               (\"susan\", \"david\"), (\"mary\", \"linda\"), (\"mary\", \"steve\")],\n",
    "    \"male\": [\"john\", \"david\", \"steve\"],\n",
    "    \"female\": [\"susan\", \"mary\", \"linda\"]\n",
    "}\n",
    "\n",
    "# Rules\n",
    "def father(x, y):\n",
    "    return (x, y) in facts[\"parent\"] and x in facts[\"male\"]\n",
    "\n",
    "def mother(x, y):\n",
    "    return (x, y) in facts[\"parent\"] and x in facts[\"female\"]\n",
    "\n",
    "def grandparent(x, y):\n",
    "    for z in [child for parent, child in facts[\"parent\"] if parent == x]:\n",
    "        if (z, y) in facts[\"parent\"]:\n",
    "            return True\n",
    "    return False\n",
    "\n",
    "def sibling(x, y):\n",
    "    for z in set(parent for parent, child in facts[\"parent\"] if child == x):\n",
    "        if (z, y) in facts[\"parent\"] and x != y:\n",
    "            return True\n",
    "    return False\n",
    "\n",
    "# Queries\n",
    "print(\"father(john, mary):\", father(\"john\", \"mary\"))  # Output: true\n",
    "print(\"mother(susan, david):\", mother(\"susan\", \"david\"))  # Output: true\n",
    "print(\"grandparent(john, linda):\", grandparent(\"john\", \"linda\"))  # Output: true\n",
    "print(\"sibling(mary, david):\", sibling(\"mary\", \"david\"))  # Output: true\n"
   ]
  },
  {
   "cell_type": "code",
   "execution_count": null,
   "id": "985be62c",
   "metadata": {
    "vscode": {
     "languageId": "plaintext"
    }
   },
   "outputs": [],
   "source": [
    "#Program_2\n",
    "\n",
    "# Facts: Symptoms associated with diseases\n",
    "facts = {\n",
    "    \"john\": [\"fever\", \"cough\", \"shortness_of_breath\"],\n",
    "    \"alice\": [\"headache\", \"runny_nose\", \"sneezing\"]\n",
    "}\n",
    "\n",
    "# Disease definitions\n",
    "diseases = {\n",
    "    \"covid\": [\"fever\", \"cough\", \"shortness_of_breath\"],\n",
    "    \"flu\": [\"fever\", \"cough\", \"runny_nose\"],\n",
    "    \"common_cold\": [\"runny_nose\", \"sneezing\", \"headache\"]\n",
    "}\n",
    "\n",
    "# Rule to diagnose\n",
    "def diagnose(person):\n",
    "    person_symptoms = set(facts.get(person, []))\n",
    "    for disease, symptoms in diseases.items():\n",
    "        if set(symptoms).issubset(person_symptoms):\n",
    "            return disease\n",
    "    return None\n",
    "\n",
    "# Query\n",
    "print(\"Diagnosis for john:\", diagnose(\"john\"))  # Output: covid\n",
    "print(\"Diagnosis for alice:\", diagnose(\"alice\"))  # Output: common_cold\n"
   ]
  }
 ],
 "metadata": {
  "language_info": {
   "name": "python"
  }
 },
 "nbformat": 4,
 "nbformat_minor": 5
}
