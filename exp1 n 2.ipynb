{
 "cells": [
  {
   "cell_type": "code",
   "execution_count": 3,
   "id": "1258ced8-08a3-4f25-b43a-11f4630d4ba0",
   "metadata": {},
   "outputs": [
    {
     "name": "stdout",
     "output_type": "stream",
     "text": [
      "Original array: [12  4 56  7 29 10]\n",
      "Sorted array: [ 4  7 10 12 29 56]\n"
     ]
    }
   ],
   "source": [
    "import numpy as np\n",
    "arr = np.array([12,4,56,7,29,10])\n",
    "sorted_arr = np.sort(arr)\n",
    "print(\"Original array:\",arr)\n",
    "print(\"Sorted array:\",sorted_arr)"
   ]
  },
  {
   "cell_type": "code",
   "execution_count": 5,
   "id": "bf41fe07-65ed-4a02-84b0-cf5eeed93358",
   "metadata": {},
   "outputs": [
    {
     "name": "stdout",
     "output_type": "stream",
     "text": [
      "Original 2D array:\n",
      "[[7 6 5]\n",
      " [8 3 9]\n",
      " [1 6 3]]\n",
      "\n",
      "Rowwise sorted array:\n",
      "[[5 6 7]\n",
      " [3 8 9]\n",
      " [1 3 6]]\n",
      "\n",
      "Columnwise sorted array:\n",
      "[[1 3 3]\n",
      " [7 6 5]\n",
      " [8 6 9]]\n"
     ]
    }
   ],
   "source": [
    "import numpy as np\n",
    "array=np.array([[7,6,5],\n",
    "                [8,3,9],\n",
    "                [1,6,3]])\n",
    "print(\"Original 2D array:\")\n",
    "print(array)\n",
    "\n",
    "row_sorted_array = np.sort(array,axis=1)\n",
    "print(\"\\nRowwise sorted array:\")\n",
    "print(row_sorted_array)\n",
    "\n",
    "column_sorted_array = np.sort(array,axis=0)\n",
    "print(\"\\nColumnwise sorted array:\")\n",
    "print(column_sorted_array)"
   ]
  },
  {
   "cell_type": "code",
   "execution_count": 11,
   "id": "3d828d71-604a-4127-9fd7-5872bc4ff201",
   "metadata": {},
   "outputs": [
    {
     "name": "stdout",
     "output_type": "stream",
     "text": [
      "0    10\n",
      "1    20\n",
      "2    30\n",
      "dtype: int64\n"
     ]
    }
   ],
   "source": [
    "import pandas as pd\n",
    "l=[10,20,30]\n",
    "S=pd.Series(l)\n",
    "print(S)"
   ]
  },
  {
   "cell_type": "code",
   "execution_count": 19,
   "id": "50ee4689-3477-4e64-8a44-fc94fb6d8e22",
   "metadata": {},
   "outputs": [
    {
     "name": "stdout",
     "output_type": "stream",
     "text": [
      "   StdID  Name  Roll.no\n",
      "0    101   Ram      101\n",
      "1    102  Siya      108\n",
      "2    103   Sam      116\n"
     ]
    }
   ],
   "source": [
    "import pandas as pd\n",
    "d={\"StdID\":[101,102,103],\"Name\":['Ram','Siya','Sam'],\"Roll.no\":[101,108,116]}\n",
    "df=pd.DataFrame(d)\n",
    "print(df)"
   ]
  },
  {
   "cell_type": "code",
   "execution_count": 23,
   "id": "60250955-d008-4724-a480-d64f7ea4d090",
   "metadata": {},
   "outputs": [
    {
     "name": "stdout",
     "output_type": "stream",
     "text": [
      "      Name  Age Department  Salary\n",
      "0    Alice   24         HR   50000\n",
      "1      Bob   27    Finance   60000\n",
      "2  Charlie   22         IT   55000\n",
      "3    David   32  Marketing   65000\n"
     ]
    }
   ],
   "source": [
    "import pandas as pd\n",
    "d={\"Name\":['Alice','Bob','Charlie','David'],\"Age\":[24,27,22,32],\"Department\":['HR','Finance','IT','Marketing'],\"Salary\":[50000,60000,55000,65000]}\n",
    "df=pd.DataFrame(d)\n",
    "print(df)"
   ]
  },
  {
   "cell_type": "code",
   "execution_count": 29,
   "id": "845aa729-3aae-436c-a236-67d8a459cbec",
   "metadata": {},
   "outputs": [
    {
     "name": "stdout",
     "output_type": "stream",
     "text": [
      "      Name  Age Department  Salary\n",
      "0    Alice   24         HR   50000\n",
      "1      Bob   27    Finance   60000\n",
      "2  Charlie   22         IT   55000\n",
      "3    David   32  Marketing   65000\n",
      "0    24\n",
      "1    27\n",
      "2    22\n",
      "3    32\n",
      "Name: Age, dtype: int64\n",
      "0      Alice\n",
      "1        Bob\n",
      "2    Charlie\n",
      "3      David\n",
      "Name: Name, dtype: object\n",
      "Name          Alice\n",
      "Age              24\n",
      "Department       HR\n",
      "Salary        50000\n",
      "Name: 0, dtype: object\n",
      "      Name  Age Department  Salary\n",
      "0    Alice   24         HR   50000\n",
      "1      Bob   27    Finance   60000\n",
      "2  Charlie   22         IT   55000\n"
     ]
    }
   ],
   "source": [
    "import pandas as pd\n",
    "d={\"Name\":['Alice','Bob','Charlie','David'],\"Age\":[24,27,22,32],\"Department\":['HR','Finance','IT','Marketing'],\"Salary\":[50000,60000,55000,65000]}\n",
    "df=pd.DataFrame(d)\n",
    "print(df)\n",
    "\n",
    "print(df['Age'])\n",
    "print(df['Name'])\n",
    "\n",
    "print(df.loc[0])\n",
    "print(df.loc[0:2])"
   ]
  },
  {
   "cell_type": "code",
   "execution_count": null,
   "id": "2a99469c-ad16-469b-be29-2c81bcc754df",
   "metadata": {},
   "outputs": [],
   "source": []
  }
 ],
 "metadata": {
  "kernelspec": {
   "display_name": "Python 3 (ipykernel)",
   "language": "python",
   "name": "python3"
  },
  "language_info": {
   "codemirror_mode": {
    "name": "ipython",
    "version": 3
   },
   "file_extension": ".py",
   "mimetype": "text/x-python",
   "name": "python",
   "nbconvert_exporter": "python",
   "pygments_lexer": "ipython3",
   "version": "3.12.7"
  }
 },
 "nbformat": 4,
 "nbformat_minor": 5
}
