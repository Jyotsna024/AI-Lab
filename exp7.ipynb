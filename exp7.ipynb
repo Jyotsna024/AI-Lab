{
 "cells": [
  {
   "cell_type": "code",
   "execution_count": null,
   "id": "ae5ca4a3",
   "metadata": {
    "vscode": {
     "languageId": "plaintext"
    }
   },
   "outputs": [],
   "source": [
    "def print_sol(): \n",
    "   for i in range(n): \n",
    "       for j in range(n): \n",
    "           print(a[i][j], end=\" \") \n",
    "       print() \n",
    "   print() \n",
    "\n",
    "def is_safe(row, col): \n",
    "   # checking for the same row \n",
    "   for i in range(col): \n",
    "       if a[row][i]: \n",
    "           return False \n",
    "\n",
    "   # checking for the same column \n",
    "   for i in range(row): \n",
    "       if a[i][col]: \n",
    "           return False \n",
    "\n",
    "   # checking for the left diagonal \n",
    "   for i, j in zip(range(row - 1, -1, -1), range(col - 1, -1, -1)): \n",
    "       if a[i][j]: \n",
    "           return False \n",
    "\n",
    "   # checking for the right diagonal \n",
    "   for i, j in zip(range(row - 1, -1, -1), range(col + 1, n)): \n",
    "       if a[i][j]: \n",
    "           return False \n",
    "   return True \n",
    "\n",
    "def nqueen(row): \n",
    "   if row == n: \n",
    "       print_sol() \n",
    "   else: \n",
    "       for i in range(n): \n",
    "           if is_safe(row, i): \n",
    "               a[row][i] = 1 \n",
    "               nqueen(row + 1) \n",
    "               a[row][i] = 0 \n",
    "\n",
    "#main program \n",
    "n = int(input(\"Enter the value of N :: \")) \n",
    "a = [[0] * 10 for _ in range(10)] \n",
    "nqueen(0) "
   ]
  },
  {
   "cell_type": "code",
   "execution_count": null,
   "id": "ca0d6d8b",
   "metadata": {
    "vscode": {
     "languageId": "plaintext"
    }
   },
   "outputs": [],
   "source": []
  }
 ],
 "metadata": {
  "language_info": {
   "name": "python"
  }
 },
 "nbformat": 4,
 "nbformat_minor": 5
}
