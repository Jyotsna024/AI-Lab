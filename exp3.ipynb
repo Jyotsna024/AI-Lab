{
 "cells": [
  {
   "cell_type": "code",
   "execution_count": 15,
   "id": "d4a2976f-1751-42cf-b20f-2c3dd5d09315",
   "metadata": {},
   "outputs": [
    {
     "name": "stdout",
     "output_type": "stream",
     "text": [
      "Least-cost path from A to Z:['A', 'C', 'D', 'E', 'Z']\n",
      "Total Cost: 17\n"
     ]
    }
   ],
   "source": [
    "import heapq\n",
    "\n",
    "def uniform_cost_search(graph, start, goal):\n",
    "    priority_queue = [(0, start, [])]  \n",
    "    visited = set()\n",
    "    \n",
    "    while priority_queue:\n",
    "        cost, node, path = heapq.heappop(priority_queue)\n",
    "        if node in visited:\n",
    "            continue\n",
    "        path = path + [node]\n",
    "        visited.add(node)\n",
    "        if node == goal:\n",
    "            return cost, path  \n",
    "        for neighbor, edge_cost in graph.get(node, []):\n",
    "            if neighbor not in visited:\n",
    "                heapq.heappush(priority_queue, (cost + edge_cost, neighbor, path))\n",
    "    \n",
    "    return float('inf'), []  \n",
    "graph = {\n",
    "    'A': [('B', 4), ('C', 3)],\n",
    "    'B': [('F', 2), ('B', 12)],\n",
    "    'C': [('E', 10), ('D', 7)],\n",
    "    'D': [('E', 2)],\n",
    "    'E': [('Z', 5)],\n",
    "    'F': [('Z',16)],\n",
    "}\n",
    "start_node = 'A'\n",
    "goal_node = 'Z'  \n",
    "cost, path = uniform_cost_search(graph, start_node, goal_node)\n",
    "print(f\"Least-cost path from {start_node} to {goal_node}:{path}\")\n",
    "print(f\"Total Cost: {cost}\")"
   ]
  },
  {
   "cell_type": "code",
   "execution_count": 25,
   "id": "23cb3b07-6a7a-417e-9fa8-0f19347583ca",
   "metadata": {},
   "outputs": [
    {
     "name": "stdout",
     "output_type": "stream",
     "text": [
      "Least-cost path from A to G:['A', 'D', 'G']\n",
      "Total Cost: 5\n"
     ]
    }
   ],
   "source": [
    "import heapq\n",
    "\n",
    "def uniform_cost_search(graph, start, goal):\n",
    "    priority_queue = [(0, start, [])]  \n",
    "    visited = set()\n",
    "    \n",
    "    while priority_queue:\n",
    "        cost, node, path = heapq.heappop(priority_queue)\n",
    "        if node in visited:\n",
    "            continue\n",
    "        path = path + [node]\n",
    "        visited.add(node)\n",
    "        if node == goal:\n",
    "            return cost, path  \n",
    "        for neighbor, edge_cost in graph.get(node, []):\n",
    "            if neighbor not in visited:\n",
    "                heapq.heappush(priority_queue, (cost + edge_cost, neighbor, path))\n",
    "    \n",
    "    return float('inf'), []  \n",
    "graph = {\n",
    "    'A': [('B', 2), ('D', 3)],\n",
    "    'B': [('E', 5), ('G', 5)],\n",
    "    'D': [('G', 2),('F', 6),('B',1)]\n",
    "}\n",
    "start_node = 'A'\n",
    "goal_node = 'G'  \n",
    "cost, path = uniform_cost_search(graph, start_node, goal_node)\n",
    "print(f\"Least-cost path from {start_node} to {goal_node}:{path}\")\n",
    "print(f\"Total Cost: {cost}\")"
   ]
  },
  {
   "cell_type": "code",
   "execution_count": null,
   "id": "13a43e5e-e308-495c-92b4-758b907d2f72",
   "metadata": {},
   "outputs": [],
   "source": []
  }
 ],
 "metadata": {
  "kernelspec": {
   "display_name": "Python 3 (ipykernel)",
   "language": "python",
   "name": "python3"
  },
  "language_info": {
   "codemirror_mode": {
    "name": "ipython",
    "version": 3
   },
   "file_extension": ".py",
   "mimetype": "text/x-python",
   "name": "python",
   "nbconvert_exporter": "python",
   "pygments_lexer": "ipython3",
   "version": "3.12.7"
  }
 },
 "nbformat": 4,
 "nbformat_minor": 5
}
