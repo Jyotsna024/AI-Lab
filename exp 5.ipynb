{
 "cells": [
  {
   "cell_type": "code",
   "execution_count": 1,
   "id": "362815f3-8c5a-4c35-8253-62c32d6c215d",
   "metadata": {},
   "outputs": [
    {
     "name": "stdout",
     "output_type": "stream",
     "text": [
      "Starting at x = 0, f(x) = 0\n",
      "Iteration 1: Move to x = 0.1, f(x) = 0.39\n",
      "Iteration 2: Move to x = 0.2, f(x) = 0.76\n",
      "Iteration 3: Move to x = 0.30000000000000004, f(x) = 1.11\n",
      "Iteration 4: Move to x = 0.4, f(x) = 1.44\n",
      "Iteration 5: Move to x = 0.5, f(x) = 1.75\n",
      "Iteration 6: Move to x = 0.6, f(x) = 2.04\n",
      "Iteration 7: Move to x = 0.7, f(x) = 2.31\n",
      "Iteration 8: Move to x = 0.7999999999999999, f(x) = 2.5599999999999996\n",
      "Iteration 9: Move to x = 0.8999999999999999, f(x) = 2.79\n",
      "Iteration 10: Move to x = 0.9999999999999999, f(x) = 3.0\n",
      "Iteration 11: Move to x = 1.0999999999999999, f(x) = 3.1899999999999995\n",
      "Iteration 12: Move to x = 1.2, f(x) = 3.36\n",
      "Iteration 13: Move to x = 1.3, f(x) = 3.51\n",
      "Iteration 14: Move to x = 1.4000000000000001, f(x) = 3.64\n",
      "Iteration 15: Move to x = 1.5000000000000002, f(x) = 3.75\n",
      "Iteration 16: Move to x = 1.6000000000000003, f(x) = 3.8400000000000003\n",
      "Iteration 17: Move to x = 1.7000000000000004, f(x) = 3.91\n",
      "Iteration 18: Move to x = 1.8000000000000005, f(x) = 3.9600000000000004\n",
      "Iteration 19: Move to x = 1.9000000000000006, f(x) = 3.99\n",
      "Iteration 20: Move to x = 2.0000000000000004, f(x) = 4.0\n",
      "Iteration 21: Goal state reached at x = 2.0000000000000004, f(x) = 4.0\n",
      "Maximum point: x = 2.0000000000000004, f(x) = 4.0\n"
     ]
    }
   ],
   "source": [
    "def f(x):\n",
    "    return -x**2 + 4*x\n",
    "\n",
    "def assess_state(x):\n",
    "    return f(x)\n",
    "\n",
    "def hill_climbing_with_assessment(start, step_size=0.1, max_iterations=100):\n",
    "    current_x = start\n",
    "    current_value = assess_state(current_x)\n",
    "    print(f\"Starting at x = {current_x}, f(x) = {current_value}\")\n",
    "    for iteration in range(max_iterations):\n",
    "        neighbor_x_pos = current_x + step_size\n",
    "        neighbor_x_neg = current_x - step_size\n",
    "        neighbor_value_pos = assess_state(neighbor_x_pos)\n",
    "        neighbor_value_neg = assess_state(neighbor_x_neg)\n",
    "        \n",
    "        if neighbor_value_pos > current_value:\n",
    "            current_x = neighbor_x_pos\n",
    "            current_value = neighbor_value_pos\n",
    "            print(f\"Iteration {iteration + 1}: Move to x = {current_x}, f(x) = {current_value}\")\n",
    "        elif neighbor_value_neg > current_value:\n",
    "            current_x = neighbor_x_neg\n",
    "            current_value = neighbor_value_neg\n",
    "            print(f\"Iteration {iteration + 1}: Move to x = {current_x}, f(x) = {current_value}\")\n",
    "        else:\n",
    "            print(f\"Iteration {iteration + 1}: Goal state reached at x = {current_x}, f(x) = {current_value}\")\n",
    "            return current_x, current_value\n",
    "    \n",
    "    print(f\"Max iterations reached. Final state at x = {current_x}, f(x) = {current_value}\")\n",
    "    return current_x, current_value\n",
    "\n",
    "max_x, max_value = hill_climbing_with_assessment(start=0)\n",
    "print(f\"Maximum point: x = {max_x}, f(x) = {max_value}\")\n"
   ]
  },
  {
   "cell_type": "code",
   "execution_count": null,
   "id": "240f1381-5412-4f90-a79c-19a76f9fb8a6",
   "metadata": {},
   "outputs": [],
   "source": []
  }
 ],
 "metadata": {
  "kernelspec": {
   "display_name": "Python 3 (ipykernel)",
   "language": "python",
   "name": "python3"
  },
  "language_info": {
   "codemirror_mode": {
    "name": "ipython",
    "version": 3
   },
   "file_extension": ".py",
   "mimetype": "text/x-python",
   "name": "python",
   "nbconvert_exporter": "python",
   "pygments_lexer": "ipython3",
   "version": "3.12.7"
  }
 },
 "nbformat": 4,
 "nbformat_minor": 5
}
